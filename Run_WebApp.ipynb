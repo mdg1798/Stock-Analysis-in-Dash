{
 "cells": [
  {
   "cell_type": "markdown",
   "metadata": {},
   "source": [
    "#### For running the app this file needs to be run (fully), at the end of running, the last block in jupyter notebook will generate a link address (displayed as output of the block), that link will direct to the app.\n",
    "#### The following files should be in the same folder as this file for proper import:\n",
    "##### 1).returns1.py\n",
    "##### 2) prob1.py\n",
    "##### 3) Effects1.py\n",
    "##### 4) hist1.py\n",
    "##### 5) linear_regress1.py\n",
    "##### 6) bestreturn1.py\n",
    "##### 7) compare1.py\n",
    "##### 8) homepage.py\n",
    "##### 9) navbar.py\n",
    "##### 10) ci1.py\n",
    "##### 11) rang1.py\n",
    "##### 12) help1.py"
   ]
  },
  {
   "cell_type": "markdown",
   "metadata": {},
   "source": [
    "###### Below few cells install the necessary packages for this program to run in your machine"
   ]
  },
  {
   "cell_type": "code",
   "execution_count": 1,
   "metadata": {},
   "outputs": [
    {
     "name": "stdout",
     "output_type": "stream",
     "text": [
      "Requirement already satisfied: dash in c:\\programdata\\anaconda3\\lib\\site-packages (1.6.1)\n",
      "Requirement already satisfied: dash-table==4.5.1 in c:\\programdata\\anaconda3\\lib\\site-packages (from dash) (4.5.1)\n",
      "Requirement already satisfied: dash-renderer==1.2.1 in c:\\programdata\\anaconda3\\lib\\site-packages (from dash) (1.2.1)\n",
      "Requirement already satisfied: flask-compress in c:\\programdata\\anaconda3\\lib\\site-packages (from dash) (1.4.0)\n",
      "Requirement already satisfied: dash-core-components==1.5.1 in c:\\programdata\\anaconda3\\lib\\site-packages (from dash) (1.5.1)\n",
      "Requirement already satisfied: future in c:\\programdata\\anaconda3\\lib\\site-packages (from dash) (0.17.1)\n",
      "Requirement already satisfied: Flask>=1.0.2 in c:\\programdata\\anaconda3\\lib\\site-packages (from dash) (1.1.1)\n",
      "Requirement already satisfied: dash-html-components==1.0.2 in c:\\programdata\\anaconda3\\lib\\site-packages (from dash) (1.0.2)\n",
      "Requirement already satisfied: plotly in c:\\programdata\\anaconda3\\lib\\site-packages (from dash) (4.3.0)\n",
      "Requirement already satisfied: Werkzeug>=0.15 in c:\\programdata\\anaconda3\\lib\\site-packages (from Flask>=1.0.2->dash) (0.15.4)\n",
      "Requirement already satisfied: itsdangerous>=0.24 in c:\\programdata\\anaconda3\\lib\\site-packages (from Flask>=1.0.2->dash) (1.1.0)\n",
      "Requirement already satisfied: click>=5.1 in c:\\programdata\\anaconda3\\lib\\site-packages (from Flask>=1.0.2->dash) (7.0)\n",
      "Requirement already satisfied: Jinja2>=2.10.1 in c:\\programdata\\anaconda3\\lib\\site-packages (from Flask>=1.0.2->dash) (2.10.1)\n",
      "Requirement already satisfied: six in c:\\programdata\\anaconda3\\lib\\site-packages (from plotly->dash) (1.12.0)\n",
      "Requirement already satisfied: retrying>=1.3.3 in c:\\programdata\\anaconda3\\lib\\site-packages (from plotly->dash) (1.3.3)\n",
      "Requirement already satisfied: MarkupSafe>=0.23 in c:\\programdata\\anaconda3\\lib\\site-packages (from Jinja2>=2.10.1->Flask>=1.0.2->dash) (1.1.1)\n"
     ]
    }
   ],
   "source": [
    "!pip install dash"
   ]
  },
  {
   "cell_type": "code",
   "execution_count": 2,
   "metadata": {},
   "outputs": [
    {
     "name": "stdout",
     "output_type": "stream",
     "text": [
      "Requirement already satisfied: dash_core_components in c:\\programdata\\anaconda3\\lib\\site-packages (1.5.1)\n"
     ]
    }
   ],
   "source": [
    "!pip install dash_core_components"
   ]
  },
  {
   "cell_type": "code",
   "execution_count": 3,
   "metadata": {},
   "outputs": [
    {
     "name": "stdout",
     "output_type": "stream",
     "text": [
      "Requirement already satisfied: dash_html_components in c:\\programdata\\anaconda3\\lib\\site-packages (1.0.2)\n"
     ]
    }
   ],
   "source": [
    "!pip install dash_html_components"
   ]
  },
  {
   "cell_type": "code",
   "execution_count": 4,
   "metadata": {},
   "outputs": [
    {
     "name": "stdout",
     "output_type": "stream",
     "text": [
      "Collecting dash.dependencies\n"
     ]
    },
    {
     "name": "stderr",
     "output_type": "stream",
     "text": [
      "  ERROR: Could not find a version that satisfies the requirement dash.dependencies (from versions: none)\n",
      "ERROR: No matching distribution found for dash.dependencies\n"
     ]
    }
   ],
   "source": [
    "!pip install dash.dependencies"
   ]
  },
  {
   "cell_type": "code",
   "execution_count": 5,
   "metadata": {},
   "outputs": [
    {
     "name": "stdout",
     "output_type": "stream",
     "text": [
      "Requirement already satisfied: dash_bootstrap_components in c:\\programdata\\anaconda3\\lib\\site-packages (0.7.2)\n",
      "Requirement already satisfied: dash>=1.0.0 in c:\\programdata\\anaconda3\\lib\\site-packages (from dash_bootstrap_components) (1.6.1)\n",
      "Requirement already satisfied: dash-renderer==1.2.1 in c:\\programdata\\anaconda3\\lib\\site-packages (from dash>=1.0.0->dash_bootstrap_components) (1.2.1)\n",
      "Requirement already satisfied: dash-core-components==1.5.1 in c:\\programdata\\anaconda3\\lib\\site-packages (from dash>=1.0.0->dash_bootstrap_components) (1.5.1)\n",
      "Requirement already satisfied: flask-compress in c:\\programdata\\anaconda3\\lib\\site-packages (from dash>=1.0.0->dash_bootstrap_components) (1.4.0)\n",
      "Requirement already satisfied: Flask>=1.0.2 in c:\\programdata\\anaconda3\\lib\\site-packages (from dash>=1.0.0->dash_bootstrap_components) (1.1.1)\n",
      "Requirement already satisfied: dash-table==4.5.1 in c:\\programdata\\anaconda3\\lib\\site-packages (from dash>=1.0.0->dash_bootstrap_components) (4.5.1)\n",
      "Requirement already satisfied: plotly in c:\\programdata\\anaconda3\\lib\\site-packages (from dash>=1.0.0->dash_bootstrap_components) (4.3.0)\n",
      "Requirement already satisfied: future in c:\\programdata\\anaconda3\\lib\\site-packages (from dash>=1.0.0->dash_bootstrap_components) (0.17.1)\n",
      "Requirement already satisfied: dash-html-components==1.0.2 in c:\\programdata\\anaconda3\\lib\\site-packages (from dash>=1.0.0->dash_bootstrap_components) (1.0.2)\n",
      "Requirement already satisfied: click>=5.1 in c:\\programdata\\anaconda3\\lib\\site-packages (from Flask>=1.0.2->dash>=1.0.0->dash_bootstrap_components) (7.0)\n",
      "Requirement already satisfied: Jinja2>=2.10.1 in c:\\programdata\\anaconda3\\lib\\site-packages (from Flask>=1.0.2->dash>=1.0.0->dash_bootstrap_components) (2.10.1)\n",
      "Requirement already satisfied: Werkzeug>=0.15 in c:\\programdata\\anaconda3\\lib\\site-packages (from Flask>=1.0.2->dash>=1.0.0->dash_bootstrap_components) (0.15.4)\n",
      "Requirement already satisfied: itsdangerous>=0.24 in c:\\programdata\\anaconda3\\lib\\site-packages (from Flask>=1.0.2->dash>=1.0.0->dash_bootstrap_components) (1.1.0)\n",
      "Requirement already satisfied: six in c:\\programdata\\anaconda3\\lib\\site-packages (from plotly->dash>=1.0.0->dash_bootstrap_components) (1.12.0)\n",
      "Requirement already satisfied: retrying>=1.3.3 in c:\\programdata\\anaconda3\\lib\\site-packages (from plotly->dash>=1.0.0->dash_bootstrap_components) (1.3.3)\n",
      "Requirement already satisfied: MarkupSafe>=0.23 in c:\\programdata\\anaconda3\\lib\\site-packages (from Jinja2>=2.10.1->Flask>=1.0.2->dash>=1.0.0->dash_bootstrap_components) (1.1.1)\n"
     ]
    }
   ],
   "source": [
    "!pip install dash_bootstrap_components"
   ]
  },
  {
   "cell_type": "code",
   "execution_count": null,
   "metadata": {},
   "outputs": [],
   "source": [
    "!pip install pandas_datareader"
   ]
  },
  {
   "cell_type": "code",
   "execution_count": null,
   "metadata": {},
   "outputs": [],
   "source": [
    "!pip install scipy.stats"
   ]
  },
  {
   "cell_type": "code",
   "execution_count": null,
   "metadata": {},
   "outputs": [],
   "source": [
    "!pip install plotly"
   ]
  },
  {
   "cell_type": "code",
   "execution_count": null,
   "metadata": {},
   "outputs": [],
   "source": [
    "!pip install dash-gif-component"
   ]
  },
  {
   "cell_type": "code",
   "execution_count": null,
   "metadata": {},
   "outputs": [],
   "source": [
    "!pip install sklearn"
   ]
  },
  {
   "cell_type": "code",
   "execution_count": null,
   "metadata": {},
   "outputs": [],
   "source": [
    "!pip install sklearn.linear_model"
   ]
  },
  {
   "cell_type": "code",
   "execution_count": null,
   "metadata": {},
   "outputs": [],
   "source": [
    "!pip install plotly.express"
   ]
  },
  {
   "cell_type": "code",
   "execution_count": null,
   "metadata": {},
   "outputs": [],
   "source": [
    "!pip install matplotlib.image"
   ]
  },
  {
   "cell_type": "code",
   "execution_count": 6,
   "metadata": {},
   "outputs": [],
   "source": [
    "import dash\n",
    "import dash_core_components as dcc\n",
    "import dash_html_components as html\n",
    "from dash.dependencies import Input, Output , State\n",
    "import dash_bootstrap_components as dbc\n",
    "from returns1 import App, update_figure\n",
    "from prob1 import App1, update_figure1\n",
    "from Effects1 import App2, update_figure2\n",
    "from hist1 import App3, update_figure3\n",
    "from linear_regress1 import App4, update_figure4\n",
    "from bestreturn1 import App5, update_figure5\n",
    "from compare1 import App6,update_figure6\n",
    "from ci1 import App7, update_figure7 \n",
    "from rang1 import App8, update_figure8\n",
    "from help1 import Help\n",
    "from homepage import Homepage"
   ]
  },
  {
   "cell_type": "code",
   "execution_count": 7,
   "metadata": {},
   "outputs": [],
   "source": [
    "app = dash.Dash(__name__, external_stylesheets=[dbc.themes.SOLAR])"
   ]
  },
  {
   "cell_type": "code",
   "execution_count": 8,
   "metadata": {},
   "outputs": [],
   "source": [
    "app.config.suppress_callback_exceptions = True"
   ]
  },
  {
   "cell_type": "code",
   "execution_count": 9,
   "metadata": {},
   "outputs": [],
   "source": [
    "app.layout = html.Div([\n",
    "    dcc.Location(id = 'url', refresh = False),\n",
    "    html.Div(id = 'page-content')\n",
    "])"
   ]
  },
  {
   "cell_type": "code",
   "execution_count": 10,
   "metadata": {},
   "outputs": [],
   "source": [
    "@app.callback(Output('page-content', 'children'),\n",
    "            [Input('url', 'pathname')])\n",
    "def display_page(pathname):\n",
    "    if pathname == '/logreturns':\n",
    "        return App()\n",
    "    elif pathname == '/probplot':\n",
    "        return App1()\n",
    "    elif pathname == '/histplot':\n",
    "        return App3()\n",
    "    elif  pathname =='/effect':\n",
    "        return App2()\n",
    "    elif pathname == '/residual':\n",
    "        return App4()\n",
    "    elif pathname == '/bestreturn':\n",
    "        return App5()\n",
    "    elif pathname == '/compare':\n",
    "        return App6()\n",
    "    elif pathname == '/population':\n",
    "        return App7()\n",
    "    elif pathname == '/range':\n",
    "        return App8()\n",
    "    elif pathname == '/help':\n",
    "        return Help()\n",
    "    else:\n",
    "        return Homepage()"
   ]
  },
  {
   "cell_type": "code",
   "execution_count": 11,
   "metadata": {},
   "outputs": [],
   "source": [
    "@app.callback(Output('r', 'children'),\n",
    "                    [Input('submit-button', 'n_clicks')],\n",
    "                    [State('my_ticker', 'value'),\n",
    "                          State('my_date_picker', 'start_date'),\n",
    "                     State('my_date_picker', 'end_date'),\n",
    "                     State('my_ticker_symbol','value'),\n",
    "                     State('confidence','value'),\n",
    "                    ])\n",
    "def update_graph8(n_clicks, value, start_date,end_date,my_ticker_symbol, confidence):\n",
    "    graph8 = update_figure8(n_clicks, value, start_date,end_date,my_ticker_symbol,confidence)\n",
    "    return graph8"
   ]
  },
  {
   "cell_type": "code",
   "execution_count": 12,
   "metadata": {},
   "outputs": [],
   "source": [
    "@app.callback(Output('out_t', 'children'),\n",
    "                    [Input('submit-button', 'n_clicks')],\n",
    "                    [State('my_ticker', 'value'),\n",
    "                          State('my_date_picker', 'start_date'),\n",
    "                     State('my_date_picker', 'end_date'),\n",
    "                     State('my_ticker_symbol1','value'),\n",
    "                     State('my_ticker_symbol2','value'),\n",
    "                    ])\n",
    "def update_graph7(n_clicks, value, start_date,end_date,my_ticker_symbol1,my_ticker_symbol2):\n",
    "    graph7 = update_figure7(n_clicks, value, start_date,end_date,my_ticker_symbol1,my_ticker_symbol2)\n",
    "    return graph7"
   ]
  },
  {
   "cell_type": "code",
   "execution_count": 13,
   "metadata": {},
   "outputs": [],
   "source": [
    "@app.callback(Output('two_plot', 'src'),\n",
    "                    [Input('submit-button', 'n_clicks')],\n",
    "                    [State('my_ticker', 'value'),\n",
    "                          State('my_date_picker', 'start_date'),\n",
    "                     State('my_date_picker', 'end_date'),\n",
    "                     State('my_ticker_symbol1','value'),\n",
    "                     State('my_ticker_symbol2','value'),\n",
    "                    ])\n",
    "def update_graph6(n_clicks, value, start_date,end_date,my_ticker_symbol1,my_ticker_symbol2):\n",
    "    graph6 = update_figure6(n_clicks, value, start_date,end_date,my_ticker_symbol1,my_ticker_symbol2)\n",
    "    return graph6"
   ]
  },
  {
   "cell_type": "code",
   "execution_count": 14,
   "metadata": {},
   "outputs": [],
   "source": [
    "@app.callback(Output('b_plot', 'src'),\n",
    "                    [Input('submit-button', 'n_clicks')],\n",
    "                    [State('my_ticker', 'value'),\n",
    "                          State('my_date_picker', 'start_date'),\n",
    "                     State('my_date_picker', 'end_date'),\n",
    "                     State('my_ticker_symbol','value'),\n",
    "                    ])\n",
    "def update_graph5(n_clicks, value, start_date,end_date,my_ticker_symbol):\n",
    "    graph5 = update_figure5(n_clicks, value, start_date,end_date,my_ticker_symbol)\n",
    "    return graph5"
   ]
  },
  {
   "cell_type": "code",
   "execution_count": 15,
   "metadata": {},
   "outputs": [],
   "source": [
    "@app.callback(Output('cur_plot', 'src'),\n",
    "                    [Input('submit-button', 'n_clicks')],\n",
    "                    [State('my_ticker', 'value'),\n",
    "                          State('my_date_picker', 'start_date'),\n",
    "                     State('my_date_picker', 'end_date'),\n",
    "                     State('my_ticker_symbol','value'),\n",
    "                    ])\n",
    "def update_graph4(n_clicks, value, start_date,end_date,my_ticker_symbol):\n",
    "    graph4 = update_figure4(n_clicks, value, start_date,end_date,my_ticker_symbol)\n",
    "    return graph4"
   ]
  },
  {
   "cell_type": "code",
   "execution_count": 16,
   "metadata": {},
   "outputs": [],
   "source": [
    "@app.callback(Output('output', 'children'),\n",
    "                    [Input('submit-button', 'n_clicks')],\n",
    "                    [State('my_ticker', 'value'),\n",
    "                          State('my_date_picker', 'start_date'),\n",
    "                     State('my_date_picker', 'end_date'),\n",
    "                     State('my_ticker_symbol','value'),\n",
    "                    ])\n",
    "def update_graph1(n_clicks, value, start_date,end_date,my_ticker_symbol):\n",
    "    graph1 = update_figure1(n_clicks, value, start_date,end_date,my_ticker_symbol)\n",
    "    return graph1\n"
   ]
  },
  {
   "cell_type": "code",
   "execution_count": 17,
   "metadata": {},
   "outputs": [],
   "source": [
    "@app.callback(Output('out', 'children'),\n",
    "                    [Input('submit-button', 'n_clicks')],\n",
    "                    [State('my_effect', 'value'),\n",
    "                        \n",
    "                    ])\n",
    "def update_graph2(n_clicks, value):\n",
    "    table1 = update_figure2(n_clicks, value)\n",
    "    return table1"
   ]
  },
  {
   "cell_type": "code",
   "execution_count": 18,
   "metadata": {},
   "outputs": [],
   "source": [
    "####r_1\n",
    "\n",
    "@app.callback(Output('graph1', 'figure'),\n",
    "                    [Input('submit-button', 'n_clicks')],\n",
    "                    [State('my_ticker', 'value'),\n",
    "                          State('my_date_picker', 'start_date'),\n",
    "                     State('my_date_picker', 'end_date'),\n",
    "                     State('my_ticker_symbol','value'),\n",
    "                     State('my_month','value')\n",
    "                    ])\n",
    "def update_graph(n_clicks, value, start_date,end_date,my_ticker_symbol,month1):\n",
    "    graph = update_figure(n_clicks, value, start_date,end_date,my_ticker_symbol,month1)\n",
    "    return graph"
   ]
  },
  {
   "cell_type": "code",
   "execution_count": 19,
   "metadata": {},
   "outputs": [],
   "source": [
    "@app.callback(Output('prob_plot', 'src'),\n",
    "                    [Input('submit-button', 'n_clicks')],\n",
    "                    [State('my_ticker', 'value'),\n",
    "                          State('my_date_picker', 'start_date'),\n",
    "                     State('my_date_picker', 'end_date'),\n",
    "                     State('my_ticker_symbol','value'),\n",
    "                    ])\n",
    "def update_graph1(n_clicks, value, start_date,end_date,my_ticker_symbol):\n",
    "    graph11 = update_figure1(n_clicks, value, start_date,end_date,my_ticker_symbol)\n",
    "    return graph11\n"
   ]
  },
  {
   "cell_type": "code",
   "execution_count": 20,
   "metadata": {},
   "outputs": [],
   "source": [
    "@app.callback(Output('hist_graph', 'children'),\n",
    "                    [Input('submit-button', 'n_clicks')],\n",
    "                    [State('my_ticker', 'value'),\n",
    "                          State('my_date_picker', 'start_date'),\n",
    "                     State('my_date_picker', 'end_date'),\n",
    "                     State('my_ticker_symbol','value'),\n",
    "                    ])\n",
    "def update_graph12(n_clicks, value, start_date,end_date,my_ticker_symbol):\n",
    "    graph12 = update_figure3(n_clicks, value, start_date,end_date,my_ticker_symbol)\n",
    "    return graph12\n"
   ]
  },
  {
   "cell_type": "code",
   "execution_count": 21,
   "metadata": {},
   "outputs": [],
   "source": [
    "#if __name__ == '__main__':\n",
    "#    app.run_server(debug=True)"
   ]
  },
  {
   "cell_type": "code",
   "execution_count": 22,
   "metadata": {},
   "outputs": [
    {
     "name": "stdout",
     "output_type": "stream",
     "text": [
      " * Serving Flask app \"__main__\" (lazy loading)\n",
      " * Environment: production\n",
      "   WARNING: This is a development server. Do not use it in a production deployment.\n",
      "   Use a production WSGI server instead.\n",
      " * Debug mode: off\n"
     ]
    },
    {
     "name": "stderr",
     "output_type": "stream",
     "text": [
      " * Running on http://127.0.0.1:8017/ (Press CTRL+C to quit)\n"
     ]
    }
   ],
   "source": [
    "if __name__ == \"__main__\":\n",
    "    app.run_server(port=8017)"
   ]
  },
  {
   "cell_type": "code",
   "execution_count": null,
   "metadata": {},
   "outputs": [],
   "source": []
  }
 ],
 "metadata": {
  "kernelspec": {
   "display_name": "Python 3",
   "language": "python",
   "name": "python3"
  },
  "language_info": {
   "codemirror_mode": {
    "name": "ipython",
    "version": 3
   },
   "file_extension": ".py",
   "mimetype": "text/x-python",
   "name": "python",
   "nbconvert_exporter": "python",
   "pygments_lexer": "ipython3",
   "version": "3.7.3"
  }
 },
 "nbformat": 4,
 "nbformat_minor": 2
}
